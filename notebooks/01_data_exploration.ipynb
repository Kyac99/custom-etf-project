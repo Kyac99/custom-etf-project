{
 "cells": [
  {
   "cell_type": "markdown",
   "metadata": {},
   "source": [
    "# Exploration des Données pour l'ETF Personnalisé\n",
    "\n",
    "Ce notebook réalise une exploration des données financières pour la construction d'un ETF personnalisé ciblant les marchés émergents et les technologies.\n",
    "\n",
    "## Objectifs\n",
    "- Explorer les données de marché des actifs potentiels pour l'ETF\n",
    "- Analyser les caractéristiques fondamentales des actifs\n",
    "- Examiner les métriques de liquidité\n",
    "- Visualiser les corrélations entre actifs"
   ]
  },
  {
   "cell_type": "code",
   "execution_count": null,
   "metadata": {},
   "source": [
    "# Imports nécessaires\n",
    "import os\n",
    "import pandas as pd\n",
    "import numpy as np\n",
    "import matplotlib.pyplot as plt\n",
    "import seaborn as sns\n",
    "import yfinance as yf\n",
    "from pathlib import Path\n",
    "import yaml\n",
    "import json\n",
    "from datetime import datetime, timedelta\n",
    "\n",
    "# Configuration pour les visualisations\n",
    "plt.style.use('seaborn-v0_8-darkgrid')\n",
    "sns.set_palette(\"viridis\")\n",
    "\n",
    "# Définir les chemins de données\n",
    "data_dir = Path(\"../data\")\n",
    "raw_dir = data_dir / \"raw\"\n",
    "processed_dir = data_dir / \"processed\"\n",
    "config_path = Path(\"../config/config.yaml\")\n",
    "\n",
    "# Créer les répertoires s'ils n'existent pas\n",
    "raw_dir.mkdir(parents=True, exist_ok=True)\n",
    "processed_dir.mkdir(parents=True, exist_ok=True)"
   ]
  },
  {
   "cell_type": "markdown",
   "metadata": {},
   "source": [
    "## Chargement de la Configuration\n",
    "\n",
    "Commençons par charger la configuration du projet depuis le fichier YAML."
   ]
  },
  {
   "cell_type": "code",
   "execution_count": null,
   "metadata": {},
   "source": [
    "# Charger la configuration\n",
    "try:\n",
    "    with open(config_path, 'r') as file:\n",
    "        config = yaml.safe_load(file)\n",
    "        print(\"Configuration chargée avec succès!\")\n",
    "except Exception as e:\n",
    "    print(f\"Erreur lors du chargement de la configuration: {e}\")\n",
    "    # Créer une configuration par défaut si le fichier n'existe pas\n",
    "    config = {\n",
    "        \"etf\": {\n",
    "            \"name\": \"Innovation Tech Émergente ETF\",\n",
    "            \"benchmark\": \"MSCI Emerging Markets Technology Index\"\n",
    "        },\n",
    "        \"asset_selection\": {\n",
    "            \"markets\": [\"Brazil\", \"Russia\", \"India\", \"China\", \"South Africa\"],\n",
    "            \"sectors\": [\"Technology\", \"Telecommunications\", \"Consumer Electronics\"]\n",
    "        },\n",
    "        \"backtesting\": {\n",
    "            \"start_date\": \"2018-01-01\",\n",
    "            \"end_date\": \"2022-12-31\"\n",
    "        }\n",
    "    }\n",
    "\n",
    "# Afficher les informations de base sur l'ETF\n",
    "print(f\"Nom de l'ETF: {config['etf']['name']}\")\n",
    "print(f\"Indice de référence: {config['etf']['benchmark']}\")\n",
    "print(f\"\\nMarchés ciblés: {', '.join(config['asset_selection']['markets'])}\")\n",
    "print(f\"Secteurs ciblés: {', '.join(config['asset_selection']['sectors'])}\")\n",
    "print(f\"\\nPériode de backtest: {config['backtesting']['start_date']} à {config['backtesting']['end_date']}\")"
   ]
  },
  {
   "cell_type": "markdown",
   "metadata": {},
   "source": [
    "## Collecte des Données de Marché\n",
    "\n",
    "Pour notre ETF, nous avons besoin de données de marché pour les actifs des pays émergents ciblés. Commençons par identifier les ETFs les plus connus pour ces marchés afin d'extraire leurs composants."
   ]
  },
  {
   "cell_type": "code",
   "execution_count": null,
   "metadata": {},
   "source": [
    "# Définir les ETFs représentatifs pour chaque marché\n",
    "market_etfs = {\n",
    "    \"Brazil\": \"EWZ\",\n",
    "    \"Russia\": \"RSX\",\n",
    "    \"India\": \"INDA\",\n",
    "    \"China\": \"MCHI\",\n",
    "    \"South Africa\": \"EZA\",\n",
    "    \"Mexico\": \"EWW\",\n",
    "    \"Indonesia\": \"EIDO\",\n",
    "    \"Turkey\": \"TUR\"\n",
    "}"
   ]
  }
 ],
 "metadata": {
  "kernelspec": {
   "display_name": "Python 3",
   "language": "python",
   "name": "python3"
  },
  "language_info": {
   "codemirror_mode": {
    "name": "ipython",
    "version": 3
   },
   "file_extension": ".py",
   "mimetype": "text/x-python",
   "name": "python",
   "nbconvert_exporter": "python",
   "pygments_lexer": "ipython3",
   "version": "3.8.10"
  }
 },
 "nbformat": 4,
 "nbformat_minor": 4
}