{
 "cells": [
  {
   "cell_type": "markdown",
   "metadata": {},
   "source": [
    "# Exploration des Données pour l'ETF Personnalisé\n",
    "\n",
    "Ce notebook réalise une exploration des données financières pour la construction d'un ETF personnalisé ciblant les marchés émergents et les technologies.\n",
    "\n",
    "## Objectifs\n",
    "- Explorer les données de marché des actifs potentiels pour l'ETF\n",
    "- Analyser les caractéristiques fondamentales des actifs\n",
    "- Examiner les métriques de liquidité\n",
    "- Visualiser les corrélations entre actifs"
   ]
  },
  {
   "cell_type": "code",
   "execution_count": null,
   "metadata": {},
   "source": [
    "# Imports nécessaires\n",
    "import os\n",
    "import pandas as pd\n",
    "import numpy as np\n",
    "import matplotlib.pyplot as plt\n",
    "import seaborn as sns\n",
    "import yfinance as yf\n",
    "from pathlib import Path\n",
    "import yaml\n",
    "import json\n",
    "from datetime import datetime, timedelta\n",
    "\n",
    "# Configuration pour les visualisations\n",
    "plt.style.use('seaborn-v0_8-darkgrid')\n",
    "sns.set_palette(\"viridis\")\n",
    "\n",
    "# Définir les chemins de données\n",
    "data_dir = Path(\"../data\")\n",
    "raw_dir = data_dir / \"raw\"\n",
    "processed_dir = data_dir / \"processed\"\n",
    "config_path = Path(\"../config/config.yaml\")\n",
    "\n",
    "# Créer les répertoires s'ils n'existent pas\n",
    "raw_dir.mkdir(parents=True, exist_ok=True)\n",
    "processed_dir.mkdir(parents=True, exist_ok=True)"
   ]
  },
  {
   "cell_type": "markdown",
   "metadata": {},
   "source": [
    "## Chargement de la Configuration\n",
    "\n",
    "Commençons par charger la configuration du projet depuis le fichier YAML."
   ]
  },
  {
   "cell_type": "code",
   "execution_count": null,
   "metadata": {},
   "source": [
    "# Charger la configuration\n",
    "try:\n",
    "    with open(config_path, 'r') as file:\n",
    "        config = yaml.safe_load(file)\n",
    "        print(\"Configuration chargée avec succès!\")\n",
    "except Exception as e:\n",
    "    print(f\"Erreur lors du chargement de la configuration: {e}\")\n",
    "    # Créer une configuration par défaut si le fichier n'existe pas\n",
    "    config = {\n",
    "        \"etf\": {\n",
    "            \"name\": \"Innovation Tech Émergente ETF\",\n",
    "            \"benchmark\": \"MSCI Emerging Markets Technology Index\"\n",
    "        },\n",
    "        \"asset_selection\": {\n",
    "            \"markets\": [\"Brazil\", \"Russia\", \"India\", \"China\", \"South Africa\"],\n",
    "            \"sectors\": [\"Technology\", \"Telecommunications\", \"Consumer Electronics\"]\n",
    "        },\n",
    "        \"backtesting\": {\n",
    "            \"start_date\": \"2018-01-01\",\n",
    "            \"end_date\": \"2022-12-31\"\n",
    "        }\n",
    "    }\n",
    "\n",
    "# Afficher les informations de base sur l'ETF\n",
    "print(f\"Nom de l'ETF: {config['etf']['name']}\")\n",
    "print(f\"Indice de référence: {config['etf']['benchmark']}\")\n",
    "print(f\"\\nMarchés ciblés: {', '.join(config['asset_selection']['markets'])}\")\n",
    "print(f\"Secteurs ciblés: {', '.join(config['asset_selection']['sectors'])}\")\n",
    "print(f\"\\nPériode de backtest: {config['backtesting']['start_date']} à {config['backtesting']['end_date']}\")"
   ]
  },
  {
   "cell_type": "markdown",
   "metadata": {},
   "source": [
    "## Collecte des Données de Marché\n",
    "\n",
    "Pour notre ETF, nous avons besoin de données de marché pour les actifs des pays émergents ciblés. Commençons par identifier les ETFs les plus connus pour ces marchés afin d'extraire leurs composants."
   ]
  },
  {
   "cell_type": "code",
   "execution_count": null,
   "metadata": {},
   "source": [
    "# Définir les ETFs représentatifs pour chaque marché\n",
    "market_etfs = {\n",
    "    \"Brazil\": \"EWZ\",\n",
    "    \"Russia\": \"RSX\",\n",
    "    \"India\": \"INDA\",\n",
    "    \"China\": \"MCHI\",\n",
    "    \"South Africa\": \"EZA\",\n",
    "    \"Mexico\": \"EWW\",\n",
    "    \"Indonesia\": \"EIDO\",\n",
    "    \"Turkey\": \"TUR\"\n",
    "}\n",
    "\n",
    "# Récupérer des informations sur ces ETFs\n",
    "for market, etf_ticker in market_etfs.items():\n",
    "    try:\n",
    "        etf = yf.Ticker(etf_ticker)\n",
    "        info = etf.info\n",
    "        print(f\"{market} - {etf_ticker}: {info.get('longName', 'N/A')}\")\n",
    "        print(f\"  Actifs sous gestion: {info.get('totalAssets', 'N/A'):,}\")\n",
    "        print(f\"  Description: {info.get('longBusinessSummary', 'N/A')[:150]}...\")\n",
    "        print(\"\\n\")\n",
    "    except Exception as e:\n",
    "        print(f\"Erreur lors de la récupération des informations pour {etf_ticker}: {e}\")"
   ]
  },
  {
   "cell_type": "markdown",
   "metadata": {},
   "source": [
    "## Analyse des Composants des ETFs Existants\n",
    "\n",
    "Examinons la composition des ETFs pour identifier les entreprises potentielles pour notre ETF personnalisé, en se concentrant sur les secteurs technologiques."
   ]
  },
  {
   "cell_type": "code",
   "execution_count": null,
   "metadata": {},
   "source": [
    "# Créer un dictionnaire pour stocker les composants par marché\n",
    "market_components = {}\n",
    "\n",
    "# Boucler sur chaque ETF de marché\n",
    "for market, etf_ticker in market_etfs.items():\n",
    "    try:\n",
    "        print(f\"Récupération des composants pour {market} ({etf_ticker})...\")\n",
    "        etf = yf.Ticker(etf_ticker)\n",
    "        holdings = etf.get_holdings()\n",
    "        \n",
    "        if holdings is not None and not holdings.empty:\n",
    "            # Filtrer les secteurs technologiques\n",
    "            tech_keywords = ['tech', 'software', 'hardware', 'semiconductor', 'telecom', \n",
    "                           'communication', 'electronics', 'internet', 'media', 'digital']\n",
    "            \n",
    "            tech_holdings = holdings[holdings['Sector'].str.lower().str.contains('|'.join(tech_keywords), na=False)]\n",
    "            \n",
    "            print(f\"  Nombre total de composants: {len(holdings)}\")\n",
    "            print(f\"  Nombre de composants tech: {len(tech_holdings)}\")\n",
    "            \n",
    "            # Afficher les 5 plus grandes entreprises tech\n",
    "            if not tech_holdings.empty:\n",
    "                print(\"\\n  Top 5 entreprises tech par poids:\")\n",
    "                top5 = tech_holdings.sort_values('% of ETF', ascending=False).head(5)\n",
    "                for idx, row in top5.iterrows():\n",
    "                    print(f\"    {row['Name']} ({row['Ticker']}) - {row['Sector']} - {row['% of ETF']:.2%}\")\n",
    "                \n",
    "                # Stocker les composants tech\n",
    "                market_components[market] = tech_holdings\n",
    "            else:\n",
    "                print(\"  Aucune entreprise tech trouvée dans cet ETF.\")\n",
    "        else:\n",
    "            print(f\"  Pas de données de holdings disponibles pour {etf_ticker}\")\n",
    "        \n",
    "        print(\"\\n\")\n",
    "    except Exception as e:\n",
    "        print(f\"Erreur lors de la récupération des holdings pour {etf_ticker}: {e}\\n\")"
   ]
  },
  {
   "cell_type": "markdown",
   "metadata": {},
   "source": [
    "## Exploration des Prix Historiques\n",
    "\n",
    "Récupérons les prix historiques pour quelques-unes des entreprises technologiques les plus importantes de chaque marché."
   ]
  },
  {
   "cell_type": "code",
   "execution_count": null,
   "metadata": {},
   "source": [
    "# Créer une liste des tickers technologiques les plus importants\n",
    "top_tech_tickers = []\n",
    "\n",
    "for market, holdings in market_components.items():\n",
    "    if not holdings.empty:\n",
    "        # Prendre les 3 plus grands tickers tech par marché\n",
    "        top3 = holdings.sort_values('% of ETF', ascending=False).head(3)\n",
    "        for ticker in top3['Ticker']:\n",
    "            if ticker not in top_tech_tickers and pd.notna(ticker):\n",
    "                top_tech_tickers.append(ticker)\n",
    "\n",
    "print(f\"Nombre de tickers tech sélectionnés: {len(top_tech_tickers)}\")\n",
    "print(f\"Tickers: {', '.join(top_tech_tickers)}\")\n",
    "\n",
    "# Récupérer les prix historiques\n",
    "start_date = config['backtesting']['start_date']\n",
    "end_date = config['backtesting']['end_date']\n",
    "\n",
    "print(f\"\\nRécupération des prix historiques du {start_date} au {end_date}...\")\n",
    "\n",
    "try:\n",
    "    # Télécharger les prix\n",
    "    prices_df = yf.download(top_tech_tickers, start=start_date, end=end_date, auto_adjust=True)['Close']\n",
    "    \n",
    "    # Afficher les informations sur les données de prix\n",
    "    print(f\"Données de prix récupérées: {prices_df.shape[0]} jours pour {prices_df.shape[1]} tickers\")\n",
    "    \n",
    "    # Sauvegarder les données de prix\n",
    "    prices_path = raw_dir / \"selected_prices.parquet\"\n",
    "    prices_df.to_parquet(prices_path)\n",
    "    print(f\"Données de prix sauvegardées dans {prices_path}\")\n",
    "except Exception as e:\n",
    "    print(f\"Erreur lors de la récupération des prix: {e}\")\n",
    "    prices_df = pd.DataFrame()"
   ]
  }
 ],
 "metadata": {
  "kernelspec": {
   "display_name": "Python 3",
   "language": "python",
   "name": "python3"
  },
  "language_info": {
   "codemirror_mode": {
    "name": "ipython",
    "version": 3
   },
   "file_extension": ".py",
   "mimetype": "text/x-python",
   "name": "python",
   "nbconvert_exporter": "python",
   "pygments_lexer": "ipython3",
   "version": "3.8.10"
  }
 },
 "nbformat": 4,
 "nbformat_minor": 4
}